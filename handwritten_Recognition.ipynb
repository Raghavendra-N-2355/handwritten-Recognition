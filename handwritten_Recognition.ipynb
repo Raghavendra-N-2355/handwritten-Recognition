{
  "nbformat": 4,
  "nbformat_minor": 0,
  "metadata": {
    "colab": {
      "provenance": [],
      "authorship_tag": "ABX9TyPD+qHmchjFc0bru9U9YDam",
      "include_colab_link": true
    },
    "kernelspec": {
      "name": "python3",
      "display_name": "Python 3"
    },
    "language_info": {
      "name": "python"
    }
  },
  "cells": [
    {
      "cell_type": "markdown",
      "metadata": {
        "id": "view-in-github",
        "colab_type": "text"
      },
      "source": [
        "<a href=\"https://colab.research.google.com/github/Raghavendra-N-2355/handwritten-Recognition/blob/main/handwritten_Recognition.ipynb\" target=\"_parent\"><img src=\"https://colab.research.google.com/assets/colab-badge.svg\" alt=\"Open In Colab\"/></a>"
      ]
    },
    {
      "cell_type": "code",
      "execution_count": 2,
      "metadata": {
        "colab": {
          "base_uri": "https://localhost:8080/",
          "height": 402
        },
        "id": "FJsJ4Yj9Ojru",
        "outputId": "97f8e629-fcdf-4157-ca0b-c9fd8f1dcbe3"
      },
      "outputs": [
        {
          "output_type": "stream",
          "name": "stdout",
          "text": [
            "✅ Saved as handwrittendataset.csv\n"
          ]
        },
        {
          "output_type": "display_data",
          "data": {
            "text/plain": [
              "<Figure size 800x400 with 10 Axes>"
            ],
            "image/png": "[encoded data removed]"
          },
          "metadata": {}
        }
      ],
      "source": [
        "import pandas as pd\n",
        "import numpy as np\n",
        "from sklearn.model_selection import train_test_split\n",
        "import matplotlib.pyplot as plt\n",
        "\n",
        "# Load raw CSV file\n",
        "df = pd.read_csv(\"mnist_test.csv\")  # Replace with your file path\n",
        "\n",
        "# Split features and labels\n",
        "y = df['label']\n",
        "X = df.drop('label', axis=1)\n",
        "\n",
        "# Normalize pixel values to [0, 1]\n",
        "X = X / 255.0\n",
        "\n",
        "# Combine back into a single dataframe for saving\n",
        "df_normalized = pd.concat([y, X], axis=1)\n",
        "\n",
        "# Save the cleaned dataset\n",
        "df_normalized.to_csv(\"handwrittendataset.csv\", index=False)\n",
        "print(\"✅ Saved as handwrittendataset.csv\")\n",
        "\n",
        "# Optional: Reshape for CNN input\n",
        "X_reshaped = X.values.reshape(-1, 28, 28, 1)\n",
        "\n",
        "# Split into train and test sets\n",
        "X_train, X_test, y_train, y_test = train_test_split(\n",
        "    X_reshaped, y, test_size=0.2, random_state=42\n",
        ")\n",
        "\n",
        "# Optional visualization\n",
        "plt.figure(figsize=(8, 4))\n",
        "for i in range(10):\n",
        "    plt.subplot(2, 5, i + 1)\n",
        "    plt.imshow(X_train[i].reshape(28, 28), cmap='gray')\n",
        "    plt.title(f\"Label: {y_train.iloc[i]}\")\n",
        "    plt.axis('off')\n",
        "plt.tight_layout()\n",
        "plt.show()\n"
      ]
    },
    {
      "cell_type": "code",
      "source": [
        "import numpy as np\n",
        "import pandas as pd\n",
        "import matplotlib.pyplot as plt\n",
        "from tensorflow.keras.models import Sequential\n",
        "from tensorflow.keras.layers import Conv2D, MaxPooling2D, Flatten, Dense\n",
        "from tensorflow.keras.utils import to_categorical\n",
        "from tensorflow.keras.models import load_model\n",
        "from PIL import Image\n",
        "import os\n",
        "\n",
        "# 1. Load the handwritten digit dataset from CSV\n",
        "df = pd.read_csv(\"handwrittendataset.csv\")\n",
        "\n",
        "# 2. Separate features and labels\n",
        "y = df['label'].values\n",
        "X = df.drop('label', axis=1).values\n",
        "\n",
        "# 3. Normalize and reshape\n",
        "X = X / 255.0\n",
        "X = X.reshape(-1, 28, 28, 1)\n",
        "\n",
        "# 4. Convert labels to categorical (one-hot encoding)\n",
        "y_cat = to_categorical(y, num_classes=10)\n",
        "\n",
        "# 5. Train/test split\n",
        "from sklearn.model_selection import train_test_split\n",
        "X_train, X_test, y_train_cat, y_test_cat = train_test_split(X, y_cat, test_size=0.2, random_state=42)\n",
        "\n",
        "# 6. Build CNN model\n",
        "model = Sequential([\n",
        "    Conv2D(32, (3, 3), activation=\"relu\", input_shape=(28, 28, 1)),\n",
        "    MaxPooling2D((2, 2)),\n",
        "    Conv2D(64, (3, 3), activation=\"relu\"),\n",
        "    MaxPooling2D((2, 2)),\n",
        "    Flatten(),\n",
        "    Dense(128, activation=\"relu\"),\n",
        "    Dense(10, activation=\"softmax\")\n",
        "])\n",
        "\n",
        "# 7. Compile and train\n",
        "model.compile(optimizer=\"adam\", loss=\"categorical_crossentropy\", metrics=[\"accuracy\"])\n",
        "model.fit(X_train, y_train_cat, validation_split=0.1, epochs=5, batch_size=128)\n",
        "\n",
        "# 8. Evaluate\n",
        "loss, acc = model.evaluate(X_test, y_test_cat)\n",
        "print(f\"\\n✅ Test Accuracy: {acc:.4f}\")\n",
        "\n",
        "# 9. Save model\n",
        "model.save(\"digit_cnn_model.h5\")\n",
        "\n",
        "# 10. Predict new uploaded image\n",
        "def predict_user_digit(image_path):\n",
        "    try:\n",
        "        # Load image, convert to grayscale 28x28\n",
        "        img = Image.open(image_path).convert(\"L\").resize((28, 28))\n",
        "        img_array = np.array(img)\n",
        "        img_array = 255 - img_array  # Invert (white bg → black bg)\n",
        "        img_array = img_array.astype(\"float32\") / 255.0\n",
        "        img_array = img_array.reshape(1, 28, 28, 1)\n",
        "\n",
        "        # Predict\n",
        "        prediction = model.predict(img_array)\n",
        "        predicted_digit = np.argmax(prediction)\n",
        "\n",
        "        # Display result\n",
        "        plt.imshow(img_array.reshape(28, 28), cmap=\"gray\")\n",
        "        plt.title(f\"Predicted Digit: {predicted_digit}\")\n",
        "        plt.axis(\"off\")\n",
        "        plt.show()\n",
        "\n",
        "        return predicted_digit\n",
        "\n",
        "    except Exception as e:\n",
        "        print(f\"❌ Error: {e}\")\n",
        "        return None\n",
        "\n",
        "# 11. In\n"
      ],
      "metadata": {
        "colab": {
          "base_uri": "https://localhost:8080/"
        },
        "id": "uR2o4hZRQm_D",
        "outputId": "dee2aec0-2fe7-4618-c973-c06faa39b823"
      },
      "execution_count": 7,
      "outputs": [
        {
          "output_type": "stream",
          "name": "stdout",
          "text": [
            "Epoch 1/5\n"
          ]
        },
        {
          "output_type": "stream",
          "name": "stderr",
          "text": [
            "/usr/local/lib/python3.11/dist-packages/keras/src/layers/convolutional/base_conv.py:107: UserWarning: Do not pass an `input_shape`/`input_dim` argument to a layer. When using Sequential models, prefer using an `Input(shape)` object as the first layer in the model instead.\n",
            "  super().__init__(activity_regularizer=activity_regularizer, **kwargs)\n"
          ]
        },
        {
          "output_type": "stream",
          "name": "stdout",
          "text": [
            "\u001b[1m57/57\u001b[0m \u001b[32m━━━━━━━━━━━━━━━━━━━━\u001b[0m\u001b[37m\u001b[0m \u001b[1m7s\u001b[0m 100ms/step - accuracy: 0.1204 - loss: 2.3013 - val_accuracy: 0.1963 - val_loss: 2.2747\n",
            "Epoch 2/5\n",
            "\u001b[1m57/57\u001b[0m \u001b[32m━━━━━━━━━━━━━━━━━━━━\u001b[0m\u001b[37m\u001b[0m \u001b[1m9s\u001b[0m 76ms/step - accuracy: 0.2759 - loss: 2.2020 - val_accuracy: 0.5512 - val_loss: 1.5775\n",
            "Epoch 3/5\n",
            "\u001b[1m57/57\u001b[0m \u001b[32m━━━━━━━━━━━━━━━━━━━━\u001b[0m\u001b[37m\u001b[0m \u001b[1m5s\u001b[0m 96ms/step - accuracy: 0.6791 - loss: 1.2879 - val_accuracy: 0.7987 - val_loss: 0.7147\n",
            "Epoch 4/5\n",
            "\u001b[1m57/57\u001b[0m \u001b[32m━━━━━━━━━━━━━━━━━━━━\u001b[0m\u001b[37m\u001b[0m \u001b[1m9s\u001b[0m 80ms/step - accuracy: 0.8055 - loss: 0.6590 - val_accuracy: 0.8512 - val_loss: 0.5295\n",
            "Epoch 5/5\n",
            "\u001b[1m57/57\u001b[0m \u001b[32m━━━━━━━━━━━━━━━━━━━━\u001b[0m\u001b[37m\u001b[0m \u001b[1m5s\u001b[0m 90ms/step - accuracy: 0.8392 - loss: 0.5262 - val_accuracy: 0.8650 - val_loss: 0.4566\n",
            "\u001b[1m63/63\u001b[0m \u001b[32m━━━━━━━━━━━━━━━━━━━━\u001b[0m\u001b[37m\u001b[0m \u001b[1m0s\u001b[0m 7ms/step - accuracy: 0.8600 - loss: 0.4605\n"
          ]
        },
        {
          "output_type": "stream",
          "name": "stderr",
          "text": [
            "WARNING:absl:You are saving your model as an HDF5 file via `model.save()` or `keras.saving.save_model(model)`. This file format is considered legacy. We recommend using instead the native Keras format, e.g. `model.save('my_model.keras')` or `keras.saving.save_model(model, 'my_model.keras')`. \n"
          ]
        },
        {
          "output_type": "stream",
          "name": "stdout",
          "text": [
            "\n",
            "✅ Test Accuracy: 0.8630\n"
          ]
        }
      ]
    },
    {
      "cell_type": "code",
      "source": [
        "# train_model.py\n",
        "\n",
        "import pandas as pd\n",
        "import numpy as np\n",
        "from sklearn.model_selection import train_test_split\n",
        "from tensorflow.keras.models import Sequential\n",
        "from tensorflow.keras.layers import Conv2D, MaxPooling2D, Flatten, Dense\n",
        "from tensorflow.keras.utils import to_categorical\n",
        "\n",
        "# 1. Load dataset\n",
        "df = pd.read_csv(\"handwrittendataset.csv\")\n",
        "y = df['label'].values\n",
        "X = df.drop('label', axis=1).values\n",
        "\n",
        "# 2. Preprocess\n",
        "X = X / 255.0\n",
        "X = X.reshape(-1, 28, 28, 1)\n",
        "y_cat = to_categorical(y, num_classes=10)\n",
        "\n",
        "# 3. Split\n",
        "X_train, X_test, y_train_cat, y_test_cat = train_test_split(X, y_cat, test_size=0.2, random_state=42)\n",
        "\n",
        "# 4. Build CNN\n",
        "model = Sequential([\n",
        "    Conv2D(32, (3, 3), activation=\"relu\", input_shape=(28, 28, 1)),\n",
        "    MaxPooling2D((2, 2)),\n",
        "    Conv2D(64, (3, 3), activation=\"relu\"),\n",
        "    MaxPooling2D((2, 2)),\n",
        "    Flatten(),\n",
        "    Dense(128, activation=\"relu\"),\n",
        "    Dense(10, activation=\"softmax\")\n",
        "])\n",
        "\n",
        "# 5. Compile & Train\n",
        "model.compile(optimizer=\"adam\", loss=\"categorical_crossentropy\", metrics=[\"accuracy\"])\n",
        "model.fit(X_train, y_train_cat, validation_split=0.1, epochs=5, batch_size=128)\n",
        "\n",
        "# 6. Evaluate\n",
        "loss, acc = model.evaluate(X_test, y_test_cat)\n",
        "print(f\"\\n✅ Test Accuracy: {acc:.4f}\")\n",
        "\n",
        "# 7. Save model\n",
        "model.save(\"digit_cnn_model.h5\")\n",
        "print(\"📁 Model saved as 'digit_cnn_model.h5'\")\n"
      ],
      "metadata": {
        "colab": {
          "base_uri": "https://localhost:8080/"
        },
        "id": "KhaHr2SaTCdZ",
        "outputId": "3cdf5379-063a-47ac-ea20-c476f8e5acf9"
      },
      "execution_count": 10,
      "outputs": [
        {
          "output_type": "stream",
          "name": "stdout",
          "text": [
            "Epoch 1/5\n"
          ]
        },
        {
          "output_type": "stream",
          "name": "stderr",
          "text": [
            "/usr/local/lib/python3.11/dist-packages/keras/src/layers/convolutional/base_conv.py:107: UserWarning: Do not pass an `input_shape`/`input_dim` argument to a layer. When using Sequential models, prefer using an `Input(shape)` object as the first layer in the model instead.\n",
            "  super().__init__(activity_regularizer=activity_regularizer, **kwargs)\n"
          ]
        },
        {
          "output_type": "stream",
          "name": "stdout",
          "text": [
            "\u001b[1m57/57\u001b[0m \u001b[32m━━━━━━━━━━━━━━━━━━━━\u001b[0m\u001b[37m\u001b[0m \u001b[1m7s\u001b[0m 92ms/step - accuracy: 0.1074 - loss: 2.3019 - val_accuracy: 0.1825 - val_loss: 2.2994\n",
            "Epoch 2/5\n",
            "\u001b[1m57/57\u001b[0m \u001b[32m━━━━━━━━━━━━━━━━━━━━\u001b[0m\u001b[37m\u001b[0m \u001b[1m5s\u001b[0m 83ms/step - accuracy: 0.1491 - loss: 2.2854 - val_accuracy: 0.4400 - val_loss: 2.0736\n",
            "Epoch 3/5\n",
            "\u001b[1m57/57\u001b[0m \u001b[32m━━━━━━━━━━━━━━━━━━━━\u001b[0m\u001b[37m\u001b[0m \u001b[1m5s\u001b[0m 78ms/step - accuracy: 0.4710 - loss: 1.8474 - val_accuracy: 0.7475 - val_loss: 1.0056\n",
            "Epoch 4/5\n",
            "\u001b[1m57/57\u001b[0m \u001b[32m━━━━━━━━━━━━━━━━━━━━\u001b[0m\u001b[37m\u001b[0m \u001b[1m5s\u001b[0m 96ms/step - accuracy: 0.7573 - loss: 0.8634 - val_accuracy: 0.8250 - val_loss: 0.5968\n",
            "Epoch 5/5\n",
            "\u001b[1m57/57\u001b[0m \u001b[32m━━━━━━━━━━━━━━━━━━━━\u001b[0m\u001b[37m\u001b[0m \u001b[1m9s\u001b[0m 78ms/step - accuracy: 0.8294 - loss: 0.5744 - val_accuracy: 0.8587 - val_loss: 0.4909\n",
            "\u001b[1m63/63\u001b[0m \u001b[32m━━━━━━━━━━━━━━━━━━━━\u001b[0m\u001b[37m\u001b[0m \u001b[1m1s\u001b[0m 13ms/step - accuracy: 0.8663 - loss: 0.4892\n"
          ]
        },
        {
          "output_type": "stream",
          "name": "stderr",
          "text": [
            "WARNING:absl:You are saving your model as an HDF5 file via `model.save()` or `keras.saving.save_model(model)`. This file format is considered legacy. We recommend using instead the native Keras format, e.g. `model.save('my_model.keras')` or `keras.saving.save_model(model, 'my_model.keras')`. \n"
          ]
        },
        {
          "output_type": "stream",
          "name": "stdout",
          "text": [
            "\n",
            "✅ Test Accuracy: 0.8600\n",
            "📁 Model saved as 'digit_cnn_model.h5'\n"
          ]
        }
      ]
    },
    {
      "cell_type": "code",
      "source": [
        "# predict_digit.py\n",
        "\n",
        "import numpy as np\n",
        "import matplotlib.pyplot as plt\n",
        "from tensorflow.keras.models import load_model\n",
        "from PIL import Image\n",
        "import os\n",
        "\n",
        "# 1. Load saved model\n",
        "model = load_model(\"digit_cnn_model.h5\")\n",
        "print(\"📦 Model loaded successfully.\")\n",
        "\n",
        "# 2. Function to predict digit\n",
        "def predict_user_digit(image_path):\n",
        "    try:\n",
        "        img = Image.open(image_path).convert(\"L\").resize((28, 28))\n",
        "        img_array = np.array(img)\n",
        "        img_array = 255 - img_array  # Invert if background is white\n",
        "        img_array = img_array.astype(\"float32\") / 255.0\n",
        "        img_array = img_array.reshape(1, 28, 28, 1)\n",
        "\n",
        "        prediction = model.predict(img_array)\n",
        "        predicted_digit = np.argmax(prediction)\n",
        "\n",
        "        plt.imshow(img_array.reshape(28, 28), cmap=\"gray\")\n",
        "        plt.title(f\"Predicted Digit: {predicted_digit}\")\n",
        "        plt.axis(\"off\")\n",
        "        plt.show()\n",
        "\n",
        "        print(f\"\\n🔢 Predicted Digit: {predicted_digit}\")\n",
        "    except Exception as e:\n",
        "        print(f\"❌ Error: {e}\")\n",
        "\n",
        "# 3. Ask user to enter image path\n",
        "image_path = input(\"📤 Enter the full path to your digit image (PNG/JPG): \").strip()\n",
        "\n",
        "if os.path.exists(image_path):\n",
        "    predict_user_digit(image_path)\n",
        "else:\n",
        "    print(\"⚠️ File not found. Please check the path and try again.\")\n"
      ],
      "metadata": {
        "colab": {
          "base_uri": "https://localhost:8080/"
        },
        "id": "HnOQ8rsMTMJS",
        "outputId": "8af69c6d-93c6-4a41-b06f-b9557ffcab6e"
      },
      "execution_count": 26,
      "outputs": [
        {
          "output_type": "stream",
          "name": "stderr",
          "text": [
            "WARNING:absl:Compiled the loaded model, but the compiled metrics have yet to be built. `model.compile_metrics` will be empty until you train or evaluate the model.\n"
          ]
        },
        {
          "output_type": "stream",
          "name": "stdout",
          "text": [
            "📦 Model loaded successfully.\n",
            "📤 Enter the full path to your digit image (PNG/JPG): data:image/png;base64,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\n",
            "⚠️ File not found. Please check the path and try again.\n"
          ]
        }
      ]
    }
  ]
}